{
 "cells": [
  {
   "cell_type": "code",
   "execution_count": 1,
   "metadata": {},
   "outputs": [
    {
     "name": "stdout",
     "output_type": "stream",
     "text": [
      "/media/a/Columbia/IEEEcnf\n",
      "1951  1961  1970  1979\t1988  1997  2006  2015\n",
      "1953  1962  1971  1980\t1989  1998  2007  preprocess_with_original_OCR.ipynb\n",
      "1954  1963  1972  1981\t1990  1999  2008\n",
      "1955  1964  1973  1982\t1991  2000  2009\n",
      "1956  1965  1974  1983\t1992  2001  2010\n",
      "1957  1966  1975  1984\t1993  2002  2011\n",
      "1958  1967  1976  1985\t1994  2003  2012\n",
      "1959  1968  1977  1986\t1995  2004  2013\n",
      "1960  1969  1978  1987\t1996  2005  2014\n"
     ]
    }
   ],
   "source": [
    "# Check your jupyter notebook is in the correct directory\n",
    "!pwd\n",
    "!ls"
   ]
  },
  {
   "cell_type": "code",
   "execution_count": 2,
   "metadata": {},
   "outputs": [],
   "source": [
    "## libraries\n",
    "import os, ocrmypdf, time, glob"
   ]
  },
  {
   "cell_type": "code",
   "execution_count": 3,
   "metadata": {},
   "outputs": [],
   "source": [
    "# stationkeeping\n",
    "homedir = os.getcwd()  # top-level directory, with subfolder names as publication year\n",
    "years = glob.glob(homedir+'/*/') # publication year folders\n",
    "target_folder = '/media/a/data/S4-July2021/raw'\n",
    "os.mkdir(target_folder) # txt file directory"
   ]
  },
  {
   "cell_type": "code",
   "execution_count": null,
   "metadata": {},
   "outputs": [
    {
     "name": "stdout",
     "output_type": "stream",
     "text": [
      "3498 articles for 1982\n"
     ]
    }
   ],
   "source": [
    "for year in years:\n",
    "    pub_year=(year[-5:-1])  # get year of articles as a str\n",
    "    pdfs_in_year = glob.glob(year + '/*/**/*.pdf', recursive=True)  # pdfs for year, including pdfs in subdirectories\n",
    "\n",
    "    print(str(len(pdfs_in_year)) + ' articles for ' + pub_year)\n",
    "    for article in pdfs_in_year:\n",
    "        pdf_path, pdf_name = os.path.split(article)\n",
    "        txt_in_pdf = '\\''+target_folder+'/'+pub_year+'-'+pdf_name[:-4]+'.txt'+'\\''\n",
    "        #print('\\''+article+'\\'')\n",
    "        #print(txt_in_pdf)\n",
    "        os.system((\"pdftotext %s %s\") % ('\\''+article+'\\'', txt_in_pdf))\n",
    "    print(\"\")"
   ]
  },
  {
   "cell_type": "code",
   "execution_count": null,
   "metadata": {},
   "outputs": [],
   "source": []
  }
 ],
 "metadata": {
  "kernelspec": {
   "display_name": "Python 3",
   "language": "python",
   "name": "python3"
  },
  "language_info": {
   "codemirror_mode": {
    "name": "ipython",
    "version": 3
   },
   "file_extension": ".py",
   "mimetype": "text/x-python",
   "name": "python",
   "nbconvert_exporter": "python",
   "pygments_lexer": "ipython3",
   "version": "3.9.5"
  }
 },
 "nbformat": 4,
 "nbformat_minor": 4
}
